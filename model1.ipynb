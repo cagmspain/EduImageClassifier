{
 "cells": [
  {
   "cell_type": "markdown",
   "metadata": {},
   "source": [
    "Aplicacion deteccion de Imagenes con propositos educativos"
   ]
  },
  {
   "cell_type": "markdown",
   "metadata": {},
   "source": [
    "1. importacion de paquetes y dependencias "
   ]
  },
  {
   "cell_type": "code",
   "execution_count": 25,
   "metadata": {},
   "outputs": [],
   "source": [
    "import streamlit as st\n",
    "from PIL import Image\n",
    "import tensorflow as tf\n",
    "from tensorflow.keras.applications import MobileNetV2\n",
    "from tensorflow.keras.preprocessing import image\n",
    "from tensorflow.keras.applications.mobilenet_v2 import preprocess_input, decode_predictions\n",
    "import numpy as np\n",
    "import matplotlib.pyplot as plt"
   ]
  },
  {
   "cell_type": "markdown",
   "metadata": {},
   "source": [
    "2. Cargamos el modelo preentrenado, con el fin de obtener su precision, se intentaron hacer modificaciones, pero afectaban la precision y el procesamiento tomaba demasiado tiempo. "
   ]
  },
  {
   "cell_type": "code",
   "execution_count": 17,
   "metadata": {},
   "outputs": [],
   "source": [
    "\n",
    "# Cargamos el el modelo preentrenado\n",
    "model = MobileNetV2(weights='imagenet')\n",
    "\n",
    "# Función para preprocesar la imagen y hacer la predicción\n",
    "def predict_image(img_path):\n",
    "    img = image.load_img(img_path, target_size=(224, 224))\n",
    "    img_array = image.img_to_array(img)\n",
    "    img_array = np.expand_dims(img_array, axis=0)\n",
    "    img_array = preprocess_input(img_array)\n",
    "    \n",
    "    # Predicción\n",
    "    preds = model.predict(img_array)\n",
    "    return decode_predictions(preds, top=3)[0]\n",
    "\n",
    "\n"
   ]
  },
  {
   "cell_type": "markdown",
   "metadata": {},
   "source": [
    "3. Predicciones e interfaz de usuario con streamlite"
   ]
  },
  {
   "cell_type": "code",
   "execution_count": 26,
   "metadata": {},
   "outputs": [
    {
     "name": "stderr",
     "output_type": "stream",
     "text": [
      "2024-09-20 19:17:06.768 \n",
      "  \u001b[33m\u001b[1mWarning:\u001b[0m to view this Streamlit app on a browser, run it with the following\n",
      "  command:\n",
      "\n",
      "    streamlit run /opt/anaconda3/lib/python3.11/site-packages/ipykernel_launcher.py [ARGUMENTS]\n"
     ]
    }
   ],
   "source": [
    "# Interfaz de usuario\n",
    "st.title('Clasificación de Imágenes con MobileNetV2')\n",
    "st.write(\"Sube una imagen y el modelo predecirá la categoría.\")\n",
    "\n",
    "# Cargar imagen\n",
    "uploaded_file = st.file_uploader(\"Elige una imagen...\", type=[\"jpg\", \"png\"])\n",
    "if uploaded_file is not None:\n",
    "    img = Image.open(uploaded_file)\n",
    "    st.image(img, caption='Imagen subida', use_column_width=True)\n",
    "    \n",
    "    # Realizar predicción\n",
    "    st.write(\"Realizando predicción...\")\n",
    "    predicciones = predict_image(img)\n",
    "    \n",
    "    # Mostrar resultados\n",
    "    st.write(\"Predicciones:\")\n",
    "    for pred in predicciones:\n",
    "        st.write(f\"{pred[1]}: {round(pred[2] * 100, 2)}%\")"
   ]
  }
 ],
 "metadata": {
  "kernelspec": {
   "display_name": "base",
   "language": "python",
   "name": "python3"
  },
  "language_info": {
   "codemirror_mode": {
    "name": "ipython",
    "version": 3
   },
   "file_extension": ".py",
   "mimetype": "text/x-python",
   "name": "python",
   "nbconvert_exporter": "python",
   "pygments_lexer": "ipython3",
   "version": "3.11.7"
  }
 },
 "nbformat": 4,
 "nbformat_minor": 2
}
